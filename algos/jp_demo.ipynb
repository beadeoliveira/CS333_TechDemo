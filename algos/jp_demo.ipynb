{
 "cells": [
  {
   "cell_type": "markdown",
   "metadata": {},
   "source": [
    "# Technical Demo: Content Moderation"
   ]
  },
  {
   "cell_type": "code",
   "execution_count": 1,
   "metadata": {
    "collapsed": false,
    "pycharm": {
     "name": "#%%\n"
    },
    "ExecuteTime": {
     "end_time": "2023-11-17T16:04:47.299399Z",
     "start_time": "2023-11-17T16:04:47.249244Z"
    }
   },
   "outputs": [],
   "source": [
    "import ipywidgets as widgets"
   ]
  },
  {
   "cell_type": "code",
   "execution_count": 2,
   "metadata": {
    "ExecuteTime": {
     "end_time": "2023-11-17T16:04:52.255434Z",
     "start_time": "2023-11-17T16:04:51.714Z"
    }
   },
   "outputs": [],
   "source": [
    "from hashing import hashing_algo"
   ]
  },
  {
   "cell_type": "markdown",
   "metadata": {},
   "source": [
    "## Setup"
   ]
  },
  {
   "cell_type": "code",
   "execution_count": 3,
   "metadata": {
    "collapsed": false,
    "pycharm": {
     "name": "#%%\n"
    },
    "ExecuteTime": {
     "end_time": "2023-11-17T16:04:52.822990Z",
     "start_time": "2023-11-17T16:04:52.808249Z"
    }
   },
   "outputs": [],
   "source": [
    "options = widgets.Dropdown(\n",
    "    options=[('All Methods', 'a'), ('Levenshtein Method', 'l'), ('Soundex', 's'), ('Basic Hashing', 'b'), \n",
    "             ('Soundex + Levenshtein', 'sl')],\n",
    "    value='a',\n",
    "    description='Algorithm:',\n",
    "    disabled=False,\n",
    "    layout=widgets.Layout(height='auto', width='auto')\n",
    ")"
   ]
  },
  {
   "cell_type": "code",
   "execution_count": 4,
   "metadata": {
    "ExecuteTime": {
     "end_time": "2023-11-17T16:04:53.093783Z",
     "start_time": "2023-11-17T16:04:53.086579Z"
    }
   },
   "outputs": [],
   "source": [
    "input = widgets.Textarea(\n",
    "    value='Type your sample text here',\n",
    "    placeholder='Type something',\n",
    "    description='Input:',\n",
    "    disabled=False,\n",
    "    layout=widgets.Layout(height='100px', width='auto')\n",
    ")"
   ]
  },
  {
   "cell_type": "code",
   "execution_count": 5,
   "metadata": {
    "ExecuteTime": {
     "end_time": "2023-11-17T16:04:53.310110Z",
     "start_time": "2023-11-17T16:04:53.303685Z"
    }
   },
   "outputs": [],
   "source": [
    "button = widgets.Button(\n",
    "    value=False,\n",
    "    description='Run Content Moderation',\n",
    "    disabled=False,\n",
    "    button_style='', # 'success', 'info', 'warning', 'danger' or ''\n",
    "    tooltip='Description',\n",
    "    icon='check', # (FontAwesome names without the `fa-` prefix),\n",
    "    layout=widgets.Layout(height='auto', width='auto')\n",
    ")"
   ]
  },
  {
   "cell_type": "code",
   "execution_count": 6,
   "metadata": {
    "ExecuteTime": {
     "end_time": "2023-11-17T16:04:53.549732Z",
     "start_time": "2023-11-17T16:04:53.541724Z"
    }
   },
   "outputs": [],
   "source": [
    "output = widgets.Output(border = 'solid')"
   ]
  },
  {
   "cell_type": "code",
   "execution_count": 7,
   "metadata": {
    "ExecuteTime": {
     "end_time": "2023-11-17T16:04:53.785017Z",
     "start_time": "2023-11-17T16:04:53.780341Z"
    }
   },
   "outputs": [],
   "source": [
    "inner_app = widgets.TwoByTwoLayout(\n",
    "    top_left= options,\n",
    "    bottom_left= button,\n",
    ")\n",
    "app = widgets.AppLayout(\n",
    "    left_sidebar=inner_app,\n",
    "    center=input,\n",
    "    right_sidebar=output,\n",
    "    )"
   ]
  },
  {
   "cell_type": "code",
   "execution_count": 8,
   "metadata": {
    "ExecuteTime": {
     "end_time": "2023-11-17T16:04:54.052493Z",
     "start_time": "2023-11-17T16:04:54.046808Z"
    }
   },
   "outputs": [],
   "source": [
    "def on_button_clicked(b):\n",
    "    with output:\n",
    "        output.clear_output()\n",
    "        out = hashing_algo(options.value, input.value)\n",
    "        if not out:\n",
    "            print(\"Moderated Content Caught? \" + str(out))\n",
    "        else:\n",
    "            print(\"Moderated Content Caught? \" + str(out[0]))\n",
    "            print(\"Moderated words count = \", out[1])\n",
    "            print(\"Moderated Words = \", out[2])\n",
    "            print(\"Non-Moderated words = \", out[3])"
   ]
  },
  {
   "cell_type": "code",
   "execution_count": 9,
   "metadata": {
    "ExecuteTime": {
     "end_time": "2023-11-17T16:04:54.265695Z",
     "start_time": "2023-11-17T16:04:54.262945Z"
    }
   },
   "outputs": [],
   "source": [
    "button.on_click(on_button_clicked)"
   ]
  },
  {
   "cell_type": "markdown",
   "metadata": {},
   "source": [
    "# Run App Demo"
   ]
  },
  {
   "cell_type": "markdown",
   "metadata": {},
   "source": [
    "To run this demo, select the algorithmic method you would like to use for our content moderation algorithm and your input then click the run button"
   ]
  },
  {
   "cell_type": "code",
   "execution_count": 10,
   "metadata": {
    "ExecuteTime": {
     "end_time": "2023-11-17T16:04:55.108975Z",
     "start_time": "2023-11-17T16:04:55.105282Z"
    }
   },
   "outputs": [
    {
     "data": {
      "text/plain": "AppLayout(children=(TwoByTwoLayout(children=(Dropdown(description='Algorithm:', layout=Layout(grid_area='top-l…",
      "application/vnd.jupyter.widget-view+json": {
       "version_major": 2,
       "version_minor": 0,
       "model_id": "b92292fad2eb42cfb1e367a8b503aad4"
      }
     },
     "metadata": {},
     "output_type": "display_data"
    }
   ],
   "source": [
    "display(app)"
   ]
  },
  {
   "cell_type": "code",
   "execution_count": null,
   "metadata": {},
   "outputs": [],
   "source": []
  }
 ],
 "metadata": {
  "kernelspec": {
   "display_name": "Python 3 (ipykernel)",
   "language": "python",
   "name": "python3"
  },
  "language_info": {
   "codemirror_mode": {
    "name": "ipython",
    "version": 3
   },
   "file_extension": ".py",
   "mimetype": "text/x-python",
   "name": "python",
   "nbconvert_exporter": "python",
   "pygments_lexer": "ipython3",
   "version": "3.9.13"
  }
 },
 "nbformat": 4,
 "nbformat_minor": 4
}
