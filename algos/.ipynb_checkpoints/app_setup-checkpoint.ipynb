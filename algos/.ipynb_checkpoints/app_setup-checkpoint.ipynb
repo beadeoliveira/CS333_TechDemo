{
 "cells": [
  {
   "cell_type": "markdown",
   "id": "9834e944-1f53-4055-9b24-8c0047e32a5c",
   "metadata": {},
   "source": [
    "# Setup for App"
   ]
  },
  {
   "cell_type": "code",
   "execution_count": 1,
   "id": "0cd7c697-82d8-490f-918e-538d88bf2595",
   "metadata": {},
   "outputs": [],
   "source": [
    "import ipywidgets as widgets"
   ]
  },
  {
   "cell_type": "code",
   "execution_count": 2,
   "id": "b644caa5-79d4-4b69-8042-2ab47efa0909",
   "metadata": {},
   "outputs": [],
   "source": [
    "from hashing import hashing_algo"
   ]
  },
  {
   "cell_type": "code",
   "execution_count": 3,
   "id": "ecc8a17e-389b-4b83-b4d8-9e14a93bdff2",
   "metadata": {},
   "outputs": [],
   "source": [
    "options = widgets.Dropdown(\n",
    "    options=[('All Methods', 'a'), ('Levenshtein Method', 'l'), ('Soundex', 's'), ('Basic Hashing', 'b'), \n",
    "             ('Soundex + Levenshtein', 'sl')],\n",
    "    value='a',\n",
    "    description='Algorithm:',\n",
    "    disabled=False,\n",
    "    layout=widgets.Layout(height='auto', width='auto')\n",
    ")"
   ]
  },
  {
   "cell_type": "code",
   "execution_count": 4,
   "id": "cf2034f3-eab4-42eb-96b2-e63124246043",
   "metadata": {},
   "outputs": [],
   "source": [
    "input = widgets.Textarea(\n",
    "    value='Type your sample text here',\n",
    "    placeholder='Type something',\n",
    "    description='Input:',\n",
    "    disabled=False,\n",
    "    layout=widgets.Layout(height='auto', width='auto')\n",
    ")"
   ]
  },
  {
   "cell_type": "code",
   "execution_count": 5,
   "id": "8a9f8aaf-40c0-4f77-97f0-ca8c205f8f68",
   "metadata": {},
   "outputs": [],
   "source": [
    "button = widgets.Button(\n",
    "    value=False,\n",
    "    description='Run Content Moderation',\n",
    "    disabled=False,\n",
    "    button_style='', # 'success', 'info', 'warning', 'danger' or ''\n",
    "    tooltip='Description',\n",
    "    icon='check', # (FontAwesome names without the `fa-` prefix),\n",
    "    layout=widgets.Layout(height='auto', width='auto')\n",
    ")"
   ]
  },
  {
   "cell_type": "code",
   "execution_count": 7,
   "id": "0c5a04a0-46ea-45ca-9900-ed3b2f0ca8de",
   "metadata": {},
   "outputs": [],
   "source": [
    "output = widgets.Output(border = 'solid')"
   ]
  },
  {
   "cell_type": "code",
   "execution_count": 8,
   "id": "75269411-191d-4702-a22e-aec3b39ff1a6",
   "metadata": {},
   "outputs": [],
   "source": [
    "inner_app = widgets.TwoByTwoLayout(\n",
    "    top_left= options,\n",
    "    # top_right = None,\n",
    "    bottom_left= button,\n",
    "    # bottom_right = None\n",
    ")\n",
    "app = widgets.AppLayout(\n",
    "    # header = button,\n",
    "    left_sidebar=inner_app,\n",
    "    center=input,\n",
    "    right_sidebar=output,\n",
    "    )"
   ]
  },
  {
   "cell_type": "code",
   "execution_count": 9,
   "id": "ad8cb1c6-d355-408f-97ca-0d1f43d94888",
   "metadata": {},
   "outputs": [],
   "source": [
    "def on_button_clicked(b):\n",
    "    with output:\n",
    "        output.clear_output()\n",
    "        out = hashing_algo(options.value, input.value)\n",
    "        if not out:\n",
    "            print(\"Moderated Content Caught? \" + str(out))\n",
    "        else:\n",
    "            print(\"Moderated Content Caught? \" + str(out[0]))\n",
    "            print(\"Moderated words count = \", out[1])\n",
    "            print(\"Moderated Words = \", out[2])\n",
    "            print(\"Non-Moderated words = \", out[3])"
   ]
  },
  {
   "cell_type": "code",
   "execution_count": 10,
   "id": "e9786d36-22c3-474a-b959-d017599d4ae1",
   "metadata": {},
   "outputs": [],
   "source": [
    "button.on_click(on_button_clicked)"
   ]
  },
  {
   "cell_type": "code",
   "execution_count": null,
   "id": "579946c7-f861-40cf-981d-15bee56a246f",
   "metadata": {},
   "outputs": [],
   "source": []
  }
 ],
 "metadata": {
  "kernelspec": {
   "display_name": "Python 3 (ipykernel)",
   "language": "python",
   "name": "python3"
  },
  "language_info": {
   "codemirror_mode": {
    "name": "ipython",
    "version": 3
   },
   "file_extension": ".py",
   "mimetype": "text/x-python",
   "name": "python",
   "nbconvert_exporter": "python",
   "pygments_lexer": "ipython3",
   "version": "3.9.13"
  }
 },
 "nbformat": 4,
 "nbformat_minor": 5
}
