{
 "cells": [
  {
   "cell_type": "markdown",
   "metadata": {},
   "source": [
    "# Technical Demo: Content Moderation"
   ]
  },
  {
   "cell_type": "code",
   "execution_count": 1,
   "metadata": {
    "collapsed": false,
    "jupyter": {
     "outputs_hidden": false
    },
    "pycharm": {
     "name": "#%%\n"
    }
   },
   "outputs": [],
   "source": [
    "import ipywidgets as widgets"
   ]
  },
  {
   "cell_type": "code",
   "execution_count": 2,
   "metadata": {},
   "outputs": [],
   "source": [
    "from hashing import hashing_algo"
   ]
  },
  {
   "cell_type": "markdown",
   "metadata": {},
   "source": [
    "## Setup"
   ]
  },
  {
   "cell_type": "code",
   "execution_count": 11,
   "metadata": {
    "collapsed": false,
    "jupyter": {
     "outputs_hidden": false
    },
    "pycharm": {
     "name": "#%%\n"
    }
   },
   "outputs": [],
   "source": [
    "options = widgets.Dropdown(\n",
    "    options=[('All Methods', 'a'), ('Levenshtein Method', 'l'), ('Soundex', 's'), ('Basic Hashing', 'b'), \n",
    "             ('Soundex + Levenshtein', 'sl')],\n",
    "    value='a',\n",
    "    description='Algorithm:',\n",
    "    disabled=False,\n",
    "    layout=widgets.Layout(height='auto', width='auto')\n",
    ")"
   ]
  },
  {
   "cell_type": "code",
   "execution_count": 12,
   "metadata": {},
   "outputs": [],
   "source": [
    "input = widgets.Textarea(\n",
    "    value='Type your sample text here',\n",
    "    placeholder='Type something',\n",
    "    description='Input:',\n",
    "    disabled=False,\n",
    "    layout=widgets.Layout(height='100px', width='auto')\n",
    ")"
   ]
  },
  {
   "cell_type": "code",
   "execution_count": 13,
   "metadata": {},
   "outputs": [],
   "source": [
    "button = widgets.Button(\n",
    "    value=False,\n",
    "    description='Run Content Moderation',\n",
    "    disabled=False,\n",
    "    button_style='', # 'success', 'info', 'warning', 'danger' or ''\n",
    "    tooltip='Description',\n",
    "    icon='check', # (FontAwesome names without the `fa-` prefix),\n",
    "    layout=widgets.Layout(height='auto', width='auto')\n",
    ")"
   ]
  },
  {
   "cell_type": "code",
   "execution_count": 14,
   "metadata": {},
   "outputs": [],
   "source": [
    "output = widgets.Output(border = 'solid')"
   ]
  },
  {
   "cell_type": "code",
   "execution_count": 15,
   "metadata": {},
   "outputs": [],
   "source": [
    "inner_app = widgets.TwoByTwoLayout(\n",
    "    top_left= options,\n",
    "    # top_right = None,\n",
    "    bottom_left= button,\n",
    "    # bottom_right = None\n",
    ")\n",
    "app = widgets.AppLayout(\n",
    "    # header = button,\n",
    "    left_sidebar=inner_app,\n",
    "    center=input,\n",
    "    right_sidebar=output,\n",
    "    )"
   ]
  },
  {
   "cell_type": "code",
   "execution_count": 16,
   "metadata": {},
   "outputs": [],
   "source": [
    "def on_button_clicked(b):\n",
    "    with output:\n",
    "        output.clear_output()\n",
    "        out = hashing_algo(options.value, input.value)\n",
    "        if not out:\n",
    "            print(\"Moderated Content Caught? \" + str(out))\n",
    "        else:\n",
    "            print(\"Moderated Content Caught? \" + str(out[0]))\n",
    "            print(\"Moderated words count = \", out[1])\n",
    "            print(\"Moderated Words = \", out[2])\n",
    "            print(\"Non-Moderated words = \", out[3])"
   ]
  },
  {
   "cell_type": "code",
   "execution_count": 17,
   "metadata": {},
   "outputs": [],
   "source": [
    "button.on_click(on_button_clicked)"
   ]
  },
  {
   "cell_type": "markdown",
   "metadata": {},
   "source": [
    "# Run App Demo"
   ]
  },
  {
   "cell_type": "markdown",
   "metadata": {},
   "source": [
    "To run this demo, select the algorithmic method you would like to use for our content moderation algorithm and your input then click the run button"
   ]
  },
  {
   "cell_type": "code",
   "execution_count": 18,
   "metadata": {},
   "outputs": [
    {
     "data": {
      "application/vnd.jupyter.widget-view+json": {
       "model_id": "bb86e62dec544c7bb0b9582c80e20061",
       "version_major": 2,
       "version_minor": 0
      },
      "text/plain": [
       "AppLayout(children=(TwoByTwoLayout(children=(Dropdown(description='Algorithm:', layout=Layout(grid_area='top-l…"
      ]
     },
     "metadata": {},
     "output_type": "display_data"
    }
   ],
   "source": [
    "display(app)"
   ]
  },
  {
   "cell_type": "code",
   "execution_count": null,
   "metadata": {},
   "outputs": [],
   "source": []
  }
 ],
 "metadata": {
  "kernelspec": {
   "display_name": "Python 3 (ipykernel)",
   "language": "python",
   "name": "python3"
  },
  "language_info": {
   "codemirror_mode": {
    "name": "ipython",
    "version": 3
   },
   "file_extension": ".py",
   "mimetype": "text/x-python",
   "name": "python",
   "nbconvert_exporter": "python",
   "pygments_lexer": "ipython3",
   "version": "3.9.13"
  }
 },
 "nbformat": 4,
 "nbformat_minor": 4
}
